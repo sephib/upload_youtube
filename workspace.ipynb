{
 "cells": [
  {
   "cell_type": "code",
   "execution_count": null,
   "metadata": {
    "collapsed": true
   },
   "outputs": [],
   "source": [
    "from pydub import AudioSegment\n",
    "\n",
    "from pathlib import Path"
   ]
  },
  {
   "cell_type": "code",
   "execution_count": 19,
   "metadata": {},
   "outputs": [],
   "source": [
    "audio_dir = 'data'  \n",
    "audio_wma_files =Path(audio_dir).rglob('*.WMA')\n",
    "audio_wma_list = [f for f in audio_wma_files]\n"
   ]
  },
  {
   "cell_type": "code",
   "execution_count": 20,
   "metadata": {},
   "outputs": [],
   "source": [
    "di = [d for d in Path(audio_dir).rglob('*.mp3')]"
   ]
  },
  {
   "cell_type": "code",
   "execution_count": 38,
   "metadata": {},
   "outputs": [
    {
     "data": {
      "text/plain": [
       "WindowsPath('data/במדבר/בהעלותך')"
      ]
     },
     "execution_count": 38,
     "metadata": {},
     "output_type": "execute_result"
    }
   ],
   "source": [
    "di[0].parent"
   ]
  },
  {
   "cell_type": "code",
   "execution_count": 57,
   "metadata": {
    "collapsed": true
   },
   "outputs": [
    {
     "name": "stdout",
     "output_type": "stream",
     "text": [
      "process: 9\nprocess: 9\nprocess: 9\nprocess: 9\nprocess: 9\nprocess: 9\nprocess: 9\nprocess: 9\nprocess: 9\nprocess: 9\nprocess: 9\nprocess: 9\nprocess: 9\nprocess: 9\nprocess: 9\nprocess: 9\nprocess: 8\nprocess: 8\nprocess: 9\nprocess: 9\nprocess: 9\n"
     ]
    }
   ],
   "source": [
    "l = []\n",
    "for i in Path(audio_dir).rglob('*.mp3'):    \n",
    "    l.append(i)\n",
    "    if len(l)>1:        \n",
    "        if l[-2].parent != l[-1].parent:\n",
    "            j = l.pop()\n",
    "            print(f'process: {len(l)}')            \n",
    "            l = []\n",
    "            l.append(j)            \n",
    "        else:\n",
    "            pass\n"
   ]
  },
  {
   "cell_type": "code",
   "execution_count": 58,
   "metadata": {
    "collapsed": true
   },
   "outputs": [
    {
     "name": "stdout",
     "output_type": "stream",
     "text": [
      "[(WindowsPath(\"data/במדבר/בהעלותך/._Beha'alotcha_1.jpg\"), WindowsPath('data/במדבר/בהעלותך/VN550672.mp3')), (WindowsPath(\"data/במדבר/בהעלותך/._Beha'alotcha_2.jpg\"), WindowsPath('data/במדבר/בהעלותך/VN550673.mp3'))]\n"
     ]
    },
    {
     "ename": "AttributeError",
     "evalue": "'tuple' object has no attribute 'parent'",
     "traceback": [
      "\u001b[1;31m---------------------------------------------------------------------------\u001b[0m",
      "\u001b[1;31mAttributeError\u001b[0m                            Traceback (most recent call last)",
      "\u001b[1;32m<ipython-input-58-0f0c632caf5d>\u001b[0m in \u001b[0;36m<module>\u001b[1;34m()\u001b[0m\n\u001b[0;32m      4\u001b[0m     \u001b[1;32mif\u001b[0m \u001b[0mlen\u001b[0m\u001b[1;33m(\u001b[0m\u001b[0ml\u001b[0m\u001b[1;33m)\u001b[0m\u001b[1;33m>\u001b[0m\u001b[1;36m1\u001b[0m\u001b[1;33m:\u001b[0m\u001b[1;33m\u001b[0m\u001b[0m\n\u001b[0;32m      5\u001b[0m         \u001b[0mprint\u001b[0m\u001b[1;33m(\u001b[0m\u001b[0ml\u001b[0m\u001b[1;33m)\u001b[0m\u001b[1;33m\u001b[0m\u001b[0m\n\u001b[1;32m----> 6\u001b[1;33m         \u001b[1;32mif\u001b[0m \u001b[0ml\u001b[0m\u001b[1;33m[\u001b[0m\u001b[1;33m-\u001b[0m\u001b[1;36m2\u001b[0m\u001b[1;33m]\u001b[0m\u001b[1;33m.\u001b[0m\u001b[0mparent\u001b[0m \u001b[1;33m!=\u001b[0m \u001b[0ml\u001b[0m\u001b[1;33m[\u001b[0m\u001b[1;33m-\u001b[0m\u001b[1;36m1\u001b[0m\u001b[1;33m]\u001b[0m\u001b[1;33m.\u001b[0m\u001b[0mparent\u001b[0m\u001b[1;33m:\u001b[0m\u001b[1;33m\u001b[0m\u001b[0m\n\u001b[0m\u001b[0;32m      7\u001b[0m             \u001b[0mj\u001b[0m \u001b[1;33m=\u001b[0m \u001b[0ml\u001b[0m\u001b[1;33m.\u001b[0m\u001b[0mpop\u001b[0m\u001b[1;33m(\u001b[0m\u001b[1;33m)\u001b[0m\u001b[1;33m\u001b[0m\u001b[0m\n\u001b[0;32m      8\u001b[0m             \u001b[0mprint\u001b[0m\u001b[1;33m(\u001b[0m\u001b[1;34mf'process: {len(l)}'\u001b[0m\u001b[1;33m)\u001b[0m\u001b[1;33m\u001b[0m\u001b[0m\n",
      "\u001b[1;31mAttributeError\u001b[0m: 'tuple' object has no attribute 'parent'"
     ],
     "output_type": "error"
    }
   ],
   "source": [
    "l = []\n",
    "for i in zip( Path(audio_dir).rglob('*.jpg'),Path(audio_dir).rglob('*.mp3')) :    \n",
    "    l.append(i)\n",
    "    if len(l)>1:\n",
    "        print(l)\n",
    "        if l[-2].parent != l[-1].parent:\n",
    "            j = l.pop()\n",
    "            print(f'process: {len(l)}')            \n",
    "            l = []\n",
    "            l.append(j)            \n",
    "        else:\n",
    "            pass"
   ]
  },
  {
   "cell_type": "code",
   "execution_count": 26,
   "metadata": {},
   "outputs": [],
   "source": [
    "def get_leaf_nodes(self):\n",
    "    leafs = []\n",
    "    self._collect_leaf_nodes(self.root,leafs)\n",
    "    return leafs\n",
    "\n",
    "def _collect_leaf_nodes(self, node, leafs):\n",
    "    if node is not None:\n",
    "        if len(node.children) == 0:\n",
    "            leafs.append(node)\n",
    "        for n in node.children:\n",
    "            self._collect_leaf_nodes(n, leafs)"
   ]
  },
  {
   "cell_type": "code",
   "execution_count": 27,
   "metadata": {},
   "outputs": [
    {
     "ename": "AttributeError",
     "evalue": "'str' object has no attribute '_collect_leaf_nodes'",
     "traceback": [
      "\u001b[1;31m---------------------------------------------------------------------------\u001b[0m",
      "\u001b[1;31mAttributeError\u001b[0m                            Traceback (most recent call last)",
      "\u001b[1;32m<ipython-input-27-a765b2e6ccdf>\u001b[0m in \u001b[0;36m<module>\u001b[1;34m()\u001b[0m\n\u001b[1;32m----> 1\u001b[1;33m \u001b[0mget_leaf_nodes\u001b[0m\u001b[1;33m(\u001b[0m\u001b[0maudio_dir\u001b[0m\u001b[1;33m)\u001b[0m\u001b[1;33m\u001b[0m\u001b[0m\n\u001b[0m",
      "\u001b[1;32m<ipython-input-26-cbf2af2ac63c>\u001b[0m in \u001b[0;36mget_leaf_nodes\u001b[1;34m(self)\u001b[0m\n\u001b[0;32m      1\u001b[0m \u001b[1;32mdef\u001b[0m \u001b[0mget_leaf_nodes\u001b[0m\u001b[1;33m(\u001b[0m\u001b[0mself\u001b[0m\u001b[1;33m)\u001b[0m\u001b[1;33m:\u001b[0m\u001b[1;33m\u001b[0m\u001b[0m\n\u001b[0;32m      2\u001b[0m     \u001b[0mleafs\u001b[0m \u001b[1;33m=\u001b[0m \u001b[1;33m[\u001b[0m\u001b[1;33m]\u001b[0m\u001b[1;33m\u001b[0m\u001b[0m\n\u001b[1;32m----> 3\u001b[1;33m     \u001b[0mself\u001b[0m\u001b[1;33m.\u001b[0m\u001b[0m_collect_leaf_nodes\u001b[0m\u001b[1;33m(\u001b[0m\u001b[0mself\u001b[0m\u001b[1;33m.\u001b[0m\u001b[0mroot\u001b[0m\u001b[1;33m,\u001b[0m\u001b[0mleafs\u001b[0m\u001b[1;33m)\u001b[0m\u001b[1;33m\u001b[0m\u001b[0m\n\u001b[0m\u001b[0;32m      4\u001b[0m     \u001b[1;32mreturn\u001b[0m \u001b[0mleafs\u001b[0m\u001b[1;33m\u001b[0m\u001b[0m\n\u001b[0;32m      5\u001b[0m \u001b[1;33m\u001b[0m\u001b[0m\n",
      "\u001b[1;31mAttributeError\u001b[0m: 'str' object has no attribute '_collect_leaf_nodes'"
     ],
     "output_type": "error"
    }
   ],
   "source": [
    "get_leaf_nodes(audio_dir)"
   ]
  },
  {
   "cell_type": "code",
   "execution_count": 4,
   "metadata": {},
   "outputs": [
    {
     "data": {
      "text/plain": [
       "WindowsPath('C:/Users/sephi/github/upload_youtube/data/במדבר/בהעלותך/VN550672/.mp3')"
      ]
     },
     "execution_count": 4,
     "metadata": {},
     "output_type": "execute_result"
    }
   ],
   "source": [
    "f =audio_wma_list[0].absolute().parent / audio_wma_list[0].stem /'.mp3'\n",
    "f"
   ]
  },
  {
   "cell_type": "code",
   "execution_count": 6,
   "metadata": {},
   "outputs": [
    {
     "ename": "KeyError",
     "evalue": "'sample_fmt'",
     "traceback": [
      "\u001b[0;31m---------------------------------------------------------------------------\u001b[0m",
      "\u001b[0;31mKeyError\u001b[0m                                  Traceback (most recent call last)",
      "\u001b[0;32m<ipython-input-6-9b3d7e3e987a>\u001b[0m in \u001b[0;36m<module>\u001b[0;34m()\u001b[0m\n\u001b[0;32m----> 1\u001b[0;31m \u001b[0mwma_version\u001b[0m \u001b[0;34m=\u001b[0m \u001b[0mAudioSegment\u001b[0m\u001b[0;34m.\u001b[0m\u001b[0mfrom_file\u001b[0m\u001b[0;34m(\u001b[0m\u001b[0maudio_wma_list\u001b[0m\u001b[0;34m[\u001b[0m\u001b[0;36m0\u001b[0m\u001b[0;34m]\u001b[0m\u001b[0;34m.\u001b[0m\u001b[0mabsolute\u001b[0m\u001b[0;34m(\u001b[0m\u001b[0;34m)\u001b[0m\u001b[0;34m,\u001b[0m \u001b[0;34m\"wma\"\u001b[0m\u001b[0;34m)\u001b[0m\u001b[0;34m\u001b[0m\u001b[0m\n\u001b[0m",
      "\u001b[0;32m/home/ds/PycharmProjects/upload_youtube/venv/lib64/python3.6/site-packages/pydub/audio_segment.py\u001b[0m in \u001b[0;36mfrom_file\u001b[0;34m(cls, file, format, codec, parameters, **kwargs)\u001b[0m\n\u001b[1;32m    662\u001b[0m             \u001b[0;31m# This is a workaround for some ffprobe versions that always say\u001b[0m\u001b[0;34m\u001b[0m\u001b[0;34m\u001b[0m\u001b[0m\n\u001b[1;32m    663\u001b[0m             \u001b[0;31m# that mp3/mp4/aac/webm/ogg files contain fltp samples\u001b[0m\u001b[0;34m\u001b[0m\u001b[0;34m\u001b[0m\u001b[0m\n\u001b[0;32m--> 664\u001b[0;31m             if (audio_streams[0]['sample_fmt'] == 'fltp' and\n\u001b[0m\u001b[1;32m    665\u001b[0m                 (is_format(\"mp3\") or is_format(\"mp4\") or is_format(\"aac\") or\n\u001b[1;32m    666\u001b[0m                  is_format(\"webm\") or is_format(\"ogg\"))):\n",
      "\u001b[0;31mKeyError\u001b[0m: 'sample_fmt'"
     ],
     "output_type": "error"
    }
   ],
   "source": [
    "wma_version = AudioSegment.from_file(audio_wma_list[0].absolute(), \"wma\")"
   ]
  },
  {
   "cell_type": "code",
   "execution_count": 4,
   "metadata": {
    "collapsed": false
   },
   "outputs": [
    {
     "ename": "KeyError",
     "evalue": "'sample_fmt'",
     "traceback": [
      "\u001b[0;31m---------------------------------------------------------------------------\u001b[0m",
      "\u001b[0;31mKeyError\u001b[0m                                  Traceback (most recent call last)",
      "\u001b[0;32m<ipython-input-4-61366311626d>\u001b[0m in \u001b[0;36m<module>\u001b[0;34m()\u001b[0m\n\u001b[0;32m----> 1\u001b[0;31m \u001b[0mAudioSegment\u001b[0m\u001b[0;34m.\u001b[0m\u001b[0mfrom_file\u001b[0m\u001b[0;34m(\u001b[0m\u001b[0maudio_wma_list\u001b[0m\u001b[0;34m[\u001b[0m\u001b[0;36m0\u001b[0m\u001b[0;34m]\u001b[0m\u001b[0;34m.\u001b[0m\u001b[0mabsolute\u001b[0m\u001b[0;34m(\u001b[0m\u001b[0;34m)\u001b[0m\u001b[0;34m)\u001b[0m\u001b[0;34m.\u001b[0m\u001b[0mexport\u001b[0m\u001b[0;34m(\u001b[0m\u001b[0mfout\u001b[0m\u001b[0;34m,\u001b[0m \u001b[0mformat\u001b[0m\u001b[0;34m=\u001b[0m\u001b[0;34m'mp3'\u001b[0m\u001b[0;34m)\u001b[0m\u001b[0;34m\u001b[0m\u001b[0m\n\u001b[0m",
      "\u001b[0;32m/home/ds/PycharmProjects/upload_youtube/venv/lib64/python3.6/site-packages/pydub/audio_segment.py\u001b[0m in \u001b[0;36mfrom_file\u001b[0;34m(cls, file, format, codec, parameters, **kwargs)\u001b[0m\n\u001b[1;32m    662\u001b[0m             \u001b[0;31m# This is a workaround for some ffprobe versions that always say\u001b[0m\u001b[0;34m\u001b[0m\u001b[0;34m\u001b[0m\u001b[0m\n\u001b[1;32m    663\u001b[0m             \u001b[0;31m# that mp3/mp4/aac/webm/ogg files contain fltp samples\u001b[0m\u001b[0;34m\u001b[0m\u001b[0;34m\u001b[0m\u001b[0m\n\u001b[0;32m--> 664\u001b[0;31m             if (audio_streams[0]['sample_fmt'] == 'fltp' and\n\u001b[0m\u001b[1;32m    665\u001b[0m                 (is_format(\"mp3\") or is_format(\"mp4\") or is_format(\"aac\") or\n\u001b[1;32m    666\u001b[0m                  is_format(\"webm\") or is_format(\"ogg\"))):\n",
      "\u001b[0;31mKeyError\u001b[0m: 'sample_fmt'"
     ],
     "output_type": "error"
    }
   ],
   "source": [
    "AudioSegment.from_file(audio_wma_list[0].absolute()).export(fout, format='mp3')"
   ]
  },
  {
   "cell_type": "code",
   "execution_count": 3,
   "metadata": {
    "collapsed": true
   },
   "outputs": [
    {
     "data": {
      "text/plain": [
       "[PosixPath('data/דברים/דברים/גולמי דברים/VN550494.WMA'),\n PosixPath('data/דברים/דברים/גולמי דברים/VN550495.WMA'),\n PosixPath('data/דברים/דברים/גולמי דברים/VN550498.WMA'),\n PosixPath('data/דברים/דברים/גולמי דברים/VN550499.WMA'),\n PosixPath('data/דברים/דברים/גולמי דברים/VN550500.WMA'),\n PosixPath('data/דברים/דברים/גולמי דברים/VN550501.WMA'),\n PosixPath('data/דברים/דברים/גולמי דברים/VN550502.WMA'),\n PosixPath('data/דברים/דברים/גולמי דברים/VN550503.WMA'),\n PosixPath('data/דברים/דברים/גולמי דברים/VN550505.WMA'),\n PosixPath('data/דברים/וילך/WMA/VN550561.WMA'),\n PosixPath('data/דברים/וילך/WMA/VN550562.WMA'),\n PosixPath('data/דברים/וילך/WMA/VN550563.WMA'),\n PosixPath('data/דברים/וילך/WMA/VN550564.WMA'),\n PosixPath('data/דברים/וילך/WMA/VN550565.WMA'),\n PosixPath('data/דברים/וילך/WMA/VN550566.WMA'),\n PosixPath('data/דברים/וילך/WMA/VN550567.WMA'),\n PosixPath('data/דברים/וילך/WMA/VN550568.WMA'),\n PosixPath('data/דברים/וילך/WMA/VN550570.WMA'),\n PosixPath('data/דברים/כי תבוא/VN550530.WMA'),\n PosixPath('data/דברים/כי תבוא/VN550531.WMA'),\n PosixPath('data/דברים/כי תבוא/VN550532.WMA'),\n PosixPath('data/דברים/כי תבוא/VN550533.WMA'),\n PosixPath('data/דברים/כי תבוא/VN550534.WMA'),\n PosixPath('data/דברים/כי תבוא/VN550535.WMA'),\n PosixPath('data/דברים/כי תבוא/VN550536.WMA'),\n PosixPath('data/דברים/כי תבוא/VN550537.WMA'),\n PosixPath('data/דברים/כי תבוא/VN550538.WMA'),\n PosixPath('data/דברים/נצבים/WMA/VN550554.WMA'),\n PosixPath('data/דברים/נצבים/WMA/VN550555.WMA'),\n PosixPath('data/דברים/נצבים/WMA/VN550556.WMA'),\n PosixPath('data/דברים/נצבים/WMA/VN550557.WMA'),\n PosixPath('data/דברים/נצבים/WMA/VN550558.WMA'),\n PosixPath('data/דברים/נצבים/WMA/VN550559.WMA'),\n PosixPath('data/דברים/נצבים/WMA/VN550560.WMA'),\n PosixPath('data/דברים/נצבים/WMA/VN550569.WMA'),\n PosixPath('data/ויקרא/בהר/WMA/VN550424.WMA'),\n PosixPath('data/ויקרא/בהר/WMA/VN550425.WMA'),\n PosixPath('data/ויקרא/בהר/WMA/VN550426.WMA'),\n PosixPath('data/ויקרא/בהר/WMA/VN550427.WMA'),\n PosixPath('data/ויקרא/בהר/WMA/VN550428.WMA'),\n PosixPath('data/ויקרא/בהר/WMA/VN550430.WMA'),\n PosixPath('data/ויקרא/בהר/WMA/VN550431.WMA'),\n PosixPath('data/ויקרא/בהר/WMA/VN550432.WMA'),\n PosixPath('data/ויקרא/בהר/WMA/VN550442.WMA'),\n PosixPath('data/ויקרא/בחוקותי/WMA/VN550433.WMA'),\n PosixPath('data/ויקרא/בחוקותי/WMA/VN550434.WMA'),\n PosixPath('data/ויקרא/בחוקותי/WMA/VN550435.WMA'),\n PosixPath('data/ויקרא/בחוקותי/WMA/VN550436.WMA'),\n PosixPath('data/ויקרא/בחוקותי/WMA/VN550437.WMA'),\n PosixPath('data/ויקרא/בחוקותי/WMA/VN550438.WMA'),\n PosixPath('data/ויקרא/בחוקותי/WMA/VN550439.WMA'),\n PosixPath('data/ויקרא/בחוקותי/WMA/VN550440.WMA'),\n PosixPath('data/ויקרא/בחוקותי/WMA/VN550443.WMA'),\n PosixPath('data/Bamidbar/בלק/VN550455.WMA'),\n PosixPath('data/Bamidbar/בלק/VN550456.WMA'),\n PosixPath('data/Bamidbar/בלק/VN550457.WMA'),\n PosixPath('data/Bamidbar/בלק/VN550458.WMA'),\n PosixPath('data/Bamidbar/בלק/VN550459.WMA'),\n PosixPath('data/Bamidbar/בלק/VN550460.WMA'),\n PosixPath('data/Bamidbar/בלק/VN550461.WMA'),\n PosixPath('data/Bamidbar/בלק/VN550462.WMA'),\n PosixPath('data/Bamidbar/בלק/VN550463.WMA'),\n PosixPath('data/Bamidbar/מטות/VN550474.WMA'),\n PosixPath('data/Bamidbar/מטות/VN550475.WMA'),\n PosixPath('data/Bamidbar/מטות/VN550476.WMA'),\n PosixPath('data/Bamidbar/מטות/VN550477.WMA'),\n PosixPath('data/Bamidbar/מטות/VN550478.WMA'),\n PosixPath('data/Bamidbar/מטות/VN550479.WMA'),\n PosixPath('data/Bamidbar/מטות/VN550480.WMA'),\n PosixPath('data/Bamidbar/מטות/VN550481.WMA'),\n PosixPath('data/Bamidbar/מטות/VN550483.WMA'),\n PosixPath('data/Bamidbar/מסעי/VN550485.WMA'),\n PosixPath('data/Bamidbar/מסעי/VN550486.WMA'),\n PosixPath('data/Bamidbar/מסעי/VN550487.WMA'),\n PosixPath('data/Bamidbar/מסעי/VN550488.WMA'),\n PosixPath('data/Bamidbar/מסעי/VN550489.WMA'),\n PosixPath('data/Bamidbar/מסעי/VN550490.WMA'),\n PosixPath('data/Bamidbar/מסעי/VN550491.WMA'),\n PosixPath('data/Bamidbar/מסעי/VN550492.WMA'),\n PosixPath('data/Bamidbar/מסעי/VN550493.WMA'),\n PosixPath('data/Bamidbar/פנחס/VN550464.WMA'),\n PosixPath('data/Bamidbar/פנחס/VN550465.WMA'),\n PosixPath('data/Bamidbar/פנחס/VN550466.WMA'),\n PosixPath('data/Bamidbar/פנחס/VN550467.WMA'),\n PosixPath('data/Bamidbar/פנחס/VN550468.WMA'),\n PosixPath('data/Bamidbar/פנחס/VN550470.WMA'),\n PosixPath('data/Bamidbar/פנחס/VN550471.WMA'),\n PosixPath('data/Bamidbar/פנחס/VN550472.WMA'),\n PosixPath('data/Bamidbar/פנחס/VN550473.WMA'),\n PosixPath('data/Bamidbar/קרח/WMA/VN550662.WMA'),\n PosixPath('data/Bamidbar/קרח/WMA/._VN550662.WMA'),\n PosixPath('data/Bamidbar/קרח/WMA/VN550663.WMA'),\n PosixPath('data/Bamidbar/קרח/WMA/VN550665.WMA'),\n PosixPath('data/Bamidbar/קרח/WMA/VN550666.WMA'),\n PosixPath('data/Bamidbar/קרח/WMA/VN550667.WMA'),\n PosixPath('data/Bamidbar/קרח/WMA/VN550668.WMA'),\n PosixPath('data/Bamidbar/קרח/WMA/VN550669.WMA'),\n PosixPath('data/Bamidbar/קרח/WMA/VN550670.WMA'),\n PosixPath('data/Bamidbar/קרח/WMA/VN550671.WMA'),\n PosixPath('data/Bamidbar/Behalotcha/VN550672.WMA'),\n PosixPath('data/Bamidbar/Behalotcha/VN550673.WMA'),\n PosixPath('data/Bamidbar/Behalotcha/VN550674.WMA'),\n PosixPath('data/Bamidbar/Behalotcha/VN550675.WMA'),\n PosixPath('data/Bamidbar/Behalotcha/VN550677.WMA'),\n PosixPath('data/Bamidbar/Behalotcha/VN550678.WMA'),\n PosixPath('data/Bamidbar/Behalotcha/VN550679.WMA'),\n PosixPath('data/Bamidbar/Behalotcha/VN550680.WMA'),\n PosixPath('data/Bamidbar/Behalotcha/VN550681.WMA')]"
      ]
     },
     "execution_count": 3,
     "metadata": {},
     "output_type": "execute_result"
    }
   ],
   "source": [
    "[f for f in audio_wma_files]"
   ]
  },
  {
   "cell_type": "code",
   "execution_count": 18,
   "metadata": {},
   "outputs": [
    {
     "data": {
      "text/plain": [
       "PosixPath('/home/ds/PycharmProjects/upload_youtube/data/דברים/דברים/גולמי דברים/VN550494.WMA')"
      ]
     },
     "execution_count": 18,
     "metadata": {},
     "output_type": "execute_result"
    }
   ],
   "source": [
    "audio_wma_list[0].absolute()\n",
    "ffmpeg -i '/home/ds/PycharmProjects/upload_youtube/data/דברים/דברים/גולמי דברים/VN550494.WMA' -f mp3  output.mp3\n"
   ]
  },
  {
   "cell_type": "code",
   "execution_count": null,
   "metadata": {},
   "outputs": [],
   "source": []
  }
 ],
 "metadata": {
  "kernelspec": {
   "display_name": "Python 2",
   "language": "python",
   "name": "python2"
  },
  "language_info": {
   "codemirror_mode": {
    "name": "ipython",
    "version": 2
   },
   "file_extension": ".py",
   "mimetype": "text/x-python",
   "name": "python",
   "nbconvert_exporter": "python",
   "pygments_lexer": "ipython2",
   "version": "2.7.6"
  }
 },
 "nbformat": 4,
 "nbformat_minor": 0
}
